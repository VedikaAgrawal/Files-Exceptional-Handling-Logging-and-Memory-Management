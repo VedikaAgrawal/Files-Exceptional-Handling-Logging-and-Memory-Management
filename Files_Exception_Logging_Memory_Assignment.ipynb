{
 "cells": [
  {
   "cell_type": "markdown",
   "id": "1183ed75-0620-424c-ab65-2fba70bea70e",
   "metadata": {},
   "source": [
    "# Theory Questions"
   ]
  },
  {
   "cell_type": "markdown",
   "id": "7006ec05",
   "metadata": {},
   "source": [
    "### Q: What is the difference between interpreted and compiled languages"
   ]
  },
  {
   "cell_type": "markdown",
   "id": "9b1cb4f7",
   "metadata": {},
   "source": [
    "**Answer:**\n",
    "\n",
    "Compiled languages (like C, C++) are translated into machine code before execution, leading to faster performance. Interpreted languages (like Python) are executed line-by-line by an interpreter, which makes them slower but more flexible for debugging."
   ]
  },
  {
   "cell_type": "markdown",
   "id": "a14cafff",
   "metadata": {},
   "source": [
    "### Q: What is exception handling in Python"
   ]
  },
  {
   "cell_type": "markdown",
   "id": "bcbef1c5",
   "metadata": {},
   "source": [
    "**Answer:**\n",
    "\n",
    "Exception handling in Python is a way to handle errors during the execution of code. It allows the programmer to catch exceptions using try-except blocks and execute alternative code without crashing the program."
   ]
  },
  {
   "cell_type": "markdown",
   "id": "f4b2795f",
   "metadata": {},
   "source": [
    "### Q: What is the purpose of the finally block in exception handling"
   ]
  },
  {
   "cell_type": "markdown",
   "id": "c2b3620a",
   "metadata": {},
   "source": [
    "**Answer:**\n",
    "\n",
    "The `finally` block is used to define a set of statements that must be executed regardless of whether an exception was raised or not. It's often used for cleanup actions like closing files or releasing resources."
   ]
  },
  {
   "cell_type": "markdown",
   "id": "e2890d2f",
   "metadata": {},
   "source": [
    "### Q: What is logging in Python"
   ]
  },
  {
   "cell_type": "markdown",
   "id": "7e97f60b",
   "metadata": {},
   "source": [
    "**Answer:**\n",
    "\n",
    "Logging in Python is a module that helps track events that happen during the execution of a program. It is used for debugging and monitoring, and can log messages to files, consoles, or other outputs."
   ]
  },
  {
   "cell_type": "markdown",
   "id": "a1d13046",
   "metadata": {},
   "source": [
    "### Q: What is the significance of the __del__ method in Python"
   ]
  },
  {
   "cell_type": "markdown",
   "id": "0e35b3d1",
   "metadata": {},
   "source": [
    "**Answer:**\n",
    "\n",
    "The `__del__` method is a destructor in Python that is called when an object is about to be destroyed. It is used to clean up resources like file handles or database connections."
   ]
  },
  {
   "cell_type": "markdown",
   "id": "09db1b33",
   "metadata": {},
   "source": [
    "### Q: What is the difference between import and from ... import in Python"
   ]
  },
  {
   "cell_type": "markdown",
   "id": "6dc3b8a4",
   "metadata": {},
   "source": [
    "**Answer:**\n",
    "\n",
    "`import module` imports the whole module. `from module import something` imports a specific part (function, class, variable) from the module."
   ]
  },
  {
   "cell_type": "markdown",
   "id": "9266e8c4",
   "metadata": {},
   "source": [
    "### Q: How can you handle multiple exceptions in Python"
   ]
  },
  {
   "cell_type": "markdown",
   "id": "0d667572",
   "metadata": {},
   "source": [
    "**Answer:**\n",
    "\n",
    "You can handle multiple exceptions using multiple `except` blocks or a single `except` block with a tuple of exceptions."
   ]
  },
  {
   "cell_type": "markdown",
   "id": "6a9e6ffd",
   "metadata": {},
   "source": [
    "### Q: What is the purpose of the with statement when handling files in Python"
   ]
  },
  {
   "cell_type": "markdown",
   "id": "9a8a3b1c",
   "metadata": {},
   "source": [
    "**Answer:**\n",
    "\n",
    "The `with` statement is used in file handling to ensure that the file is properly closed after its suite finishes, even if an exception is raised."
   ]
  },
  {
   "cell_type": "markdown",
   "id": "19097b0a",
   "metadata": {},
   "source": [
    "### Q: What is the difference between multithreading and multiprocessing"
   ]
  },
  {
   "cell_type": "markdown",
   "id": "bca7e698",
   "metadata": {},
   "source": [
    "**Answer:**\n",
    "\n",
    "Multithreading allows multiple threads to run in the same process, while multiprocessing runs separate processes. Multiprocessing avoids the GIL and is better for CPU-bound tasks."
   ]
  },
  {
   "cell_type": "markdown",
   "id": "1afbe1a7",
   "metadata": {},
   "source": [
    "### Q: What are the advantages of using logging in a program"
   ]
  },
  {
   "cell_type": "markdown",
   "id": "4448ffaf",
   "metadata": {},
   "source": [
    "**Answer:**\n",
    "\n",
    "Logging provides a way to track and debug issues in production environments. It helps in understanding the flow and errors in a program without stopping it."
   ]
  },
  {
   "cell_type": "markdown",
   "id": "f8edd4f4",
   "metadata": {},
   "source": [
    "### Q: What is memory management in Python"
   ]
  },
  {
   "cell_type": "markdown",
   "id": "a717ca57",
   "metadata": {},
   "source": [
    "**Answer:**\n",
    "\n",
    "Memory management in Python involves allocating and deallocating memory to variables and objects during runtime. Python uses automatic memory management through reference counting and garbage collection."
   ]
  },
  {
   "cell_type": "markdown",
   "id": "53d1608c",
   "metadata": {},
   "source": [
    "### Q: What are the basic steps involved in exception handling in Python"
   ]
  },
  {
   "cell_type": "markdown",
   "id": "74ff31c9",
   "metadata": {},
   "source": [
    "**Answer:**\n",
    "\n",
    "The steps are: 1. Use try block to write the code that might raise an exception. 2. Use except block to catch and handle the exception. 3. Optionally, use else and finally blocks."
   ]
  },
  {
   "cell_type": "markdown",
   "id": "4d29326b",
   "metadata": {},
   "source": [
    "### Q: Why is memory management important in Python"
   ]
  },
  {
   "cell_type": "markdown",
   "id": "280aa1d7",
   "metadata": {},
   "source": [
    "**Answer:**\n",
    "\n",
    "It prevents memory leaks and ensures efficient use of resources. It helps programs run faster and avoids unexpected crashes."
   ]
  },
  {
   "cell_type": "markdown",
   "id": "c5274c74",
   "metadata": {},
   "source": [
    "### Q: What is the role of try and except in exception handling"
   ]
  },
  {
   "cell_type": "markdown",
   "id": "3784c74d",
   "metadata": {},
   "source": [
    "**Answer:**\n",
    "\n",
    "The `try` block lets you test a block of code for errors. The `except` block lets you handle the error."
   ]
  },
  {
   "cell_type": "markdown",
   "id": "944982fb",
   "metadata": {},
   "source": [
    "### Q: How does Python's garbage collection system work"
   ]
  },
  {
   "cell_type": "markdown",
   "id": "d743828f",
   "metadata": {},
   "source": [
    "**Answer:**\n",
    "\n",
    "Python’s garbage collection reclaims memory by deleting objects with zero references. It uses reference counting and a cyclic garbage collector."
   ]
  },
  {
   "cell_type": "markdown",
   "id": "e751d9ef",
   "metadata": {},
   "source": [
    "### Q: What is the purpose of the else block in exception handling"
   ]
  },
  {
   "cell_type": "markdown",
   "id": "292aa2e7",
   "metadata": {},
   "source": [
    "**Answer:**\n",
    "\n",
    "The `else` block is executed if no exception occurs in the `try` block. It's useful for code that should run only if the `try` was successful."
   ]
  },
  {
   "cell_type": "markdown",
   "id": "5ce2abd3",
   "metadata": {},
   "source": [
    "### Q: What are the common logging levels in Python"
   ]
  },
  {
   "cell_type": "markdown",
   "id": "ebf44727",
   "metadata": {},
   "source": [
    "**Answer:**\n",
    "\n",
    "Common logging levels are: DEBUG, INFO, WARNING, ERROR, and CRITICAL."
   ]
  },
  {
   "cell_type": "markdown",
   "id": "bb285f63",
   "metadata": {},
   "source": [
    "### Q: What is the difference between os.fork() and multiprocessing in Python"
   ]
  },
  {
   "cell_type": "markdown",
   "id": "e7423262",
   "metadata": {},
   "source": [
    "**Answer:**\n",
    "\n",
    "`os.fork()` creates a child process (Unix only) with a copy of the parent. `multiprocessing` works cross-platform and allows communication between processes."
   ]
  },
  {
   "cell_type": "markdown",
   "id": "c9ac192e",
   "metadata": {},
   "source": [
    "### Q: What is the importance of closing a file in Python"
   ]
  },
  {
   "cell_type": "markdown",
   "id": "2d28a34c",
   "metadata": {},
   "source": [
    "**Answer:**\n",
    "\n",
    "Closing a file releases the resources and avoids data corruption or loss."
   ]
  },
  {
   "cell_type": "markdown",
   "id": "1a706227",
   "metadata": {},
   "source": [
    "### Q: What is the difference between file.read() and file.readline() in Python"
   ]
  },
  {
   "cell_type": "markdown",
   "id": "e00c592a",
   "metadata": {},
   "source": [
    "**Answer:**\n",
    "\n",
    "`file.read()` reads the entire file content. `file.readline()` reads a single line at a time."
   ]
  },
  {
   "cell_type": "markdown",
   "id": "14d8d822",
   "metadata": {},
   "source": [
    "### Q: What is the logging module in Python used for"
   ]
  },
  {
   "cell_type": "markdown",
   "id": "fce7dc75",
   "metadata": {},
   "source": [
    "**Answer:**\n",
    "\n",
    "The logging module is used to record log messages for tracking and debugging purposes."
   ]
  },
  {
   "cell_type": "markdown",
   "id": "d681b9cf",
   "metadata": {},
   "source": [
    "### Q: What is the os module in Python used for in file handling"
   ]
  },
  {
   "cell_type": "markdown",
   "id": "e79d4164",
   "metadata": {},
   "source": [
    "**Answer:**\n",
    "\n",
    "The `os` module provides functions for interacting with the operating system like creating, removing, or checking file paths."
   ]
  },
  {
   "cell_type": "markdown",
   "id": "6bcbbf25",
   "metadata": {},
   "source": [
    "### Q: What are the challenges associated with memory management in Python"
   ]
  },
  {
   "cell_type": "markdown",
   "id": "d7f2fb44",
   "metadata": {},
   "source": [
    "**Answer:**\n",
    "\n",
    "Challenges include garbage collection overhead, memory leaks from circular references, and managing memory-intensive tasks."
   ]
  },
  {
   "cell_type": "markdown",
   "id": "94002ddb",
   "metadata": {},
   "source": [
    "### Q: How do you raise an exception manually in Python"
   ]
  },
  {
   "cell_type": "markdown",
   "id": "1728525d",
   "metadata": {},
   "source": [
    "**Answer:**\n",
    "\n",
    "Use the `raise` keyword followed by an exception class, e.g., `raise ValueError(\"Invalid input\")`."
   ]
  },
  {
   "cell_type": "markdown",
   "id": "9276d483",
   "metadata": {},
   "source": [
    "### Q: Why is it important to use multithreading in certain applications?"
   ]
  },
  {
   "cell_type": "markdown",
   "id": "60970f7c",
   "metadata": {},
   "source": [
    "**Answer:**\n",
    "\n",
    "Multithreading is useful in applications requiring simultaneous I/O operations or background tasks like GUI updates, servers, etc."
   ]
  },
  {
   "cell_type": "code",
   "execution_count": 6,
   "id": "c53cd0c8",
   "metadata": {},
   "outputs": [],
   "source": [
    "# Q: How can you open a file for writing in Python and write a string to it\n",
    "with open('example.txt', 'w') as f:\n",
    "    f.write('Hello, this is a test file.')"
   ]
  },
  {
   "cell_type": "code",
   "execution_count": 8,
   "id": "1a6680cc",
   "metadata": {},
   "outputs": [
    {
     "name": "stdout",
     "output_type": "stream",
     "text": [
      "Hello, this is a test file.\n"
     ]
    }
   ],
   "source": [
    "# Q: Write a Python program to read the contents of a file and print each line\n",
    "with open('example.txt', 'r') as f:\n",
    "    for line in f:\n",
    "        print(line.strip())"
   ]
  },
  {
   "cell_type": "code",
   "execution_count": 10,
   "id": "9317d3f4",
   "metadata": {},
   "outputs": [
    {
     "name": "stdout",
     "output_type": "stream",
     "text": [
      "File not found!\n"
     ]
    }
   ],
   "source": [
    "# Q: How would you handle a case where the file doesn't exist while trying to open it for reading\n",
    "try:\n",
    "    with open('nonexistent.txt', 'r') as f:\n",
    "        print(f.read())\n",
    "except FileNotFoundError:\n",
    "    print('File not found!')"
   ]
  },
  {
   "cell_type": "code",
   "execution_count": 18,
   "id": "fb0cb101",
   "metadata": {},
   "outputs": [
    {
     "name": "stdout",
     "output_type": "stream",
     "text": [
      "Hello, this is a test file.\n"
     ]
    }
   ],
   "source": [
    "# Q: Write a Python script that reads from one file and writes its content to another file\n",
    "with open('example.txt', 'r') as src:\n",
    "    content = src.read()\n",
    "\n",
    "with open('destination.txt', 'w') as dest:\n",
    "    dest.write(content)\n",
    "    \n",
    "with open('example.txt', 'r') as f:\n",
    "    for line in f:\n",
    "        print(line.strip())"
   ]
  },
  {
   "cell_type": "code",
   "execution_count": 20,
   "id": "99ca92c7",
   "metadata": {},
   "outputs": [
    {
     "name": "stdout",
     "output_type": "stream",
     "text": [
      "Cannot divide by zero!\n"
     ]
    }
   ],
   "source": [
    "# Q: How would you catch and handle division by zero error in Python\n",
    "try:\n",
    "    result = 10 / 0\n",
    "except ZeroDivisionError:\n",
    "    print('Cannot divide by zero!')"
   ]
  },
  {
   "cell_type": "code",
   "execution_count": 24,
   "id": "e7d7148a",
   "metadata": {},
   "outputs": [],
   "source": [
    "# Q: Write a Python program that logs an error message to a log file when a division by zero exception occurs\n",
    "import logging\n",
    "logging.basicConfig(filename='error.log', level=logging.ERROR)\n",
    "\n",
    "try:\n",
    "    x = 1 / 0\n",
    "except ZeroDivisionError as e:\n",
    "    logging.error('Division by zero occurred: %s', e)"
   ]
  },
  {
   "cell_type": "code",
   "execution_count": 26,
   "id": "966e49d0",
   "metadata": {},
   "outputs": [],
   "source": [
    "# Q: How do you log information at different levels (INFO, ERROR, WARNING) in Python using the logging module\n",
    "import logging\n",
    "logging.basicConfig(level=logging.DEBUG)\n",
    "logging.info('This is an info message')\n",
    "logging.warning('This is a warning')\n",
    "logging.error('This is an error')"
   ]
  },
  {
   "cell_type": "code",
   "execution_count": 28,
   "id": "7b3791e6",
   "metadata": {},
   "outputs": [
    {
     "name": "stdout",
     "output_type": "stream",
     "text": [
      "Error: File not found.\n"
     ]
    }
   ],
   "source": [
    "# Q: Write a program to handle a file opening error using exception handling\n",
    "try:\n",
    "    with open('nofile.txt', 'r') as f:\n",
    "        print(f.read())\n",
    "except FileNotFoundError:\n",
    "    print('Error: File not found.')"
   ]
  },
  {
   "cell_type": "code",
   "execution_count": 30,
   "id": "94218463",
   "metadata": {},
   "outputs": [
    {
     "name": "stdout",
     "output_type": "stream",
     "text": [
      "['Hello, this is a test file.']\n"
     ]
    }
   ],
   "source": [
    "# Q: How can you read a file line by line and store its content in a list in Python\n",
    "with open('example.txt', 'r') as f:\n",
    "    lines = f.readlines()\n",
    "print(lines)"
   ]
  },
  {
   "cell_type": "code",
   "execution_count": 36,
   "id": "a938b792",
   "metadata": {},
   "outputs": [
    {
     "name": "stdout",
     "output_type": "stream",
     "text": [
      "Hello, this is a test file.\n",
      "Appended line.\n",
      "Appended line.\n"
     ]
    }
   ],
   "source": [
    "# Q: How can you append data to an existing file in Python\n",
    "with open('example.txt', 'a') as f:\n",
    "    f.write('\\nAppended line.')\n",
    "with open('example.txt', 'r') as f:\n",
    "    for line in f:\n",
    "        print(line.strip())"
   ]
  },
  {
   "cell_type": "code",
   "execution_count": 34,
   "id": "618fe7d1",
   "metadata": {},
   "outputs": [
    {
     "name": "stdout",
     "output_type": "stream",
     "text": [
      "Key not found in dictionary\n"
     ]
    }
   ],
   "source": [
    "# Q: Write a Python program that uses a try-except block to handle an error when attempting to access a dictionary key that doesn't exist\n",
    "data = {'name': 'Alice'}\n",
    "try:\n",
    "    print(data['age'])\n",
    "except KeyError:\n",
    "    print('Key not found in dictionary')"
   ]
  },
  {
   "cell_type": "code",
   "execution_count": 38,
   "id": "a5958679",
   "metadata": {},
   "outputs": [
    {
     "name": "stdout",
     "output_type": "stream",
     "text": [
      "Value error occurred\n"
     ]
    }
   ],
   "source": [
    "# Q: Write a program that demonstrates using multiple except blocks to handle different types of exceptions\n",
    "try:\n",
    "    val = int('abc')\n",
    "    result = 10 / 0\n",
    "except ValueError:\n",
    "    print('Value error occurred')\n",
    "except ZeroDivisionError:\n",
    "    print('Zero division error occurred')"
   ]
  },
  {
   "cell_type": "code",
   "execution_count": 40,
   "id": "5745a62a",
   "metadata": {},
   "outputs": [
    {
     "name": "stdout",
     "output_type": "stream",
     "text": [
      "Hello, this is a test file.\n",
      "Appended line.\n",
      "Appended line.\n"
     ]
    }
   ],
   "source": [
    "# Q: How would you check if a file exists before attempting to read it in Python\n",
    "import os\n",
    "if os.path.exists('example.txt'):\n",
    "    with open('example.txt') as f:\n",
    "        print(f.read())\n",
    "else:\n",
    "    print('File does not exist')"
   ]
  },
  {
   "cell_type": "code",
   "execution_count": 42,
   "id": "61e5e74b",
   "metadata": {},
   "outputs": [],
   "source": [
    "# Q: Write a program that uses the logging module to log both informational and error messages\n",
    "import logging\n",
    "logging.basicConfig(filename='app.log', level=logging.INFO)\n",
    "logging.info('Program started')\n",
    "try:\n",
    "    1 / 0\n",
    "except ZeroDivisionError:\n",
    "    logging.error('Division by zero error occurred')"
   ]
  },
  {
   "cell_type": "code",
   "execution_count": 44,
   "id": "72dd2065",
   "metadata": {},
   "outputs": [
    {
     "name": "stdout",
     "output_type": "stream",
     "text": [
      "Hello, this is a test file.\n",
      "Appended line.\n",
      "Appended line.\n"
     ]
    }
   ],
   "source": [
    "# Q: Write a Python program that prints the content of a file and handles the case when the file is empty\n",
    "try:\n",
    "    with open('example.txt') as f:\n",
    "        content = f.read()\n",
    "        if content:\n",
    "            print(content)\n",
    "        else:\n",
    "            print('File is empty')\n",
    "except FileNotFoundError:\n",
    "    print('File not found')"
   ]
  },
  {
   "cell_type": "code",
   "execution_count": 48,
   "id": "55958691-c836-434c-a6f9-6d1d5e1331d3",
   "metadata": {},
   "outputs": [
    {
     "name": "stdout",
     "output_type": "stream",
     "text": [
      "Collecting memory-profiler\n",
      "  Downloading memory_profiler-0.61.0-py3-none-any.whl.metadata (20 kB)\n",
      "Requirement already satisfied: psutil in /opt/anaconda3/lib/python3.12/site-packages (from memory-profiler) (5.9.0)\n",
      "Downloading memory_profiler-0.61.0-py3-none-any.whl (31 kB)\n",
      "Installing collected packages: memory-profiler\n",
      "Successfully installed memory-profiler-0.61.0\n"
     ]
    }
   ],
   "source": [
    "!pip install memory-profiler"
   ]
  },
  {
   "cell_type": "code",
   "execution_count": 68,
   "id": "2436cf69",
   "metadata": {},
   "outputs": [
    {
     "name": "stdout",
     "output_type": "stream",
     "text": [
      "ERROR: Could not find file /var/folders/f1/c0fv21ks3j11qdb1x5c6217h0000gn/T/ipykernel_2347/712315025.py\n"
     ]
    },
    {
     "data": {
      "text/plain": [
       "[0,\n",
       " 1,\n",
       " 2,\n",
       " 3,\n",
       " 4,\n",
       " 5,\n",
       " 6,\n",
       " 7,\n",
       " 8,\n",
       " 9,\n",
       " 10,\n",
       " 11,\n",
       " 12,\n",
       " 13,\n",
       " 14,\n",
       " 15,\n",
       " 16,\n",
       " 17,\n",
       " 18,\n",
       " 19,\n",
       " 20,\n",
       " 21,\n",
       " 22,\n",
       " 23,\n",
       " 24,\n",
       " 25,\n",
       " 26,\n",
       " 27,\n",
       " 28,\n",
       " 29,\n",
       " 30,\n",
       " 31,\n",
       " 32,\n",
       " 33,\n",
       " 34,\n",
       " 35,\n",
       " 36,\n",
       " 37,\n",
       " 38,\n",
       " 39,\n",
       " 40,\n",
       " 41,\n",
       " 42,\n",
       " 43,\n",
       " 44,\n",
       " 45,\n",
       " 46,\n",
       " 47,\n",
       " 48,\n",
       " 49,\n",
       " 50,\n",
       " 51,\n",
       " 52,\n",
       " 53,\n",
       " 54,\n",
       " 55,\n",
       " 56,\n",
       " 57,\n",
       " 58,\n",
       " 59,\n",
       " 60,\n",
       " 61,\n",
       " 62,\n",
       " 63,\n",
       " 64,\n",
       " 65,\n",
       " 66,\n",
       " 67,\n",
       " 68,\n",
       " 69,\n",
       " 70,\n",
       " 71,\n",
       " 72,\n",
       " 73,\n",
       " 74,\n",
       " 75,\n",
       " 76,\n",
       " 77,\n",
       " 78,\n",
       " 79,\n",
       " 80,\n",
       " 81,\n",
       " 82,\n",
       " 83,\n",
       " 84,\n",
       " 85,\n",
       " 86,\n",
       " 87,\n",
       " 88,\n",
       " 89,\n",
       " 90,\n",
       " 91,\n",
       " 92,\n",
       " 93,\n",
       " 94,\n",
       " 95,\n",
       " 96,\n",
       " 97,\n",
       " 98,\n",
       " 99,\n",
       " 100,\n",
       " 101,\n",
       " 102,\n",
       " 103,\n",
       " 104,\n",
       " 105,\n",
       " 106,\n",
       " 107,\n",
       " 108,\n",
       " 109,\n",
       " 110,\n",
       " 111,\n",
       " 112,\n",
       " 113,\n",
       " 114,\n",
       " 115,\n",
       " 116,\n",
       " 117,\n",
       " 118,\n",
       " 119,\n",
       " 120,\n",
       " 121,\n",
       " 122,\n",
       " 123,\n",
       " 124,\n",
       " 125,\n",
       " 126,\n",
       " 127,\n",
       " 128,\n",
       " 129,\n",
       " 130,\n",
       " 131,\n",
       " 132,\n",
       " 133,\n",
       " 134,\n",
       " 135,\n",
       " 136,\n",
       " 137,\n",
       " 138,\n",
       " 139,\n",
       " 140,\n",
       " 141,\n",
       " 142,\n",
       " 143,\n",
       " 144,\n",
       " 145,\n",
       " 146,\n",
       " 147,\n",
       " 148,\n",
       " 149,\n",
       " 150,\n",
       " 151,\n",
       " 152,\n",
       " 153,\n",
       " 154,\n",
       " 155,\n",
       " 156,\n",
       " 157,\n",
       " 158,\n",
       " 159,\n",
       " 160,\n",
       " 161,\n",
       " 162,\n",
       " 163,\n",
       " 164,\n",
       " 165,\n",
       " 166,\n",
       " 167,\n",
       " 168,\n",
       " 169,\n",
       " 170,\n",
       " 171,\n",
       " 172,\n",
       " 173,\n",
       " 174,\n",
       " 175,\n",
       " 176,\n",
       " 177,\n",
       " 178,\n",
       " 179,\n",
       " 180,\n",
       " 181,\n",
       " 182,\n",
       " 183,\n",
       " 184,\n",
       " 185,\n",
       " 186,\n",
       " 187,\n",
       " 188,\n",
       " 189,\n",
       " 190,\n",
       " 191,\n",
       " 192,\n",
       " 193,\n",
       " 194,\n",
       " 195,\n",
       " 196,\n",
       " 197,\n",
       " 198,\n",
       " 199,\n",
       " 200,\n",
       " 201,\n",
       " 202,\n",
       " 203,\n",
       " 204,\n",
       " 205,\n",
       " 206,\n",
       " 207,\n",
       " 208,\n",
       " 209,\n",
       " 210,\n",
       " 211,\n",
       " 212,\n",
       " 213,\n",
       " 214,\n",
       " 215,\n",
       " 216,\n",
       " 217,\n",
       " 218,\n",
       " 219,\n",
       " 220,\n",
       " 221,\n",
       " 222,\n",
       " 223,\n",
       " 224,\n",
       " 225,\n",
       " 226,\n",
       " 227,\n",
       " 228,\n",
       " 229,\n",
       " 230,\n",
       " 231,\n",
       " 232,\n",
       " 233,\n",
       " 234,\n",
       " 235,\n",
       " 236,\n",
       " 237,\n",
       " 238,\n",
       " 239,\n",
       " 240,\n",
       " 241,\n",
       " 242,\n",
       " 243,\n",
       " 244,\n",
       " 245,\n",
       " 246,\n",
       " 247,\n",
       " 248,\n",
       " 249,\n",
       " 250,\n",
       " 251,\n",
       " 252,\n",
       " 253,\n",
       " 254,\n",
       " 255,\n",
       " 256,\n",
       " 257,\n",
       " 258,\n",
       " 259,\n",
       " 260,\n",
       " 261,\n",
       " 262,\n",
       " 263,\n",
       " 264,\n",
       " 265,\n",
       " 266,\n",
       " 267,\n",
       " 268,\n",
       " 269,\n",
       " 270,\n",
       " 271,\n",
       " 272,\n",
       " 273,\n",
       " 274,\n",
       " 275,\n",
       " 276,\n",
       " 277,\n",
       " 278,\n",
       " 279,\n",
       " 280,\n",
       " 281,\n",
       " 282,\n",
       " 283,\n",
       " 284,\n",
       " 285,\n",
       " 286,\n",
       " 287,\n",
       " 288,\n",
       " 289,\n",
       " 290,\n",
       " 291,\n",
       " 292,\n",
       " 293,\n",
       " 294,\n",
       " 295,\n",
       " 296,\n",
       " 297,\n",
       " 298,\n",
       " 299,\n",
       " 300,\n",
       " 301,\n",
       " 302,\n",
       " 303,\n",
       " 304,\n",
       " 305,\n",
       " 306,\n",
       " 307,\n",
       " 308,\n",
       " 309,\n",
       " 310,\n",
       " 311,\n",
       " 312,\n",
       " 313,\n",
       " 314,\n",
       " 315,\n",
       " 316,\n",
       " 317,\n",
       " 318,\n",
       " 319,\n",
       " 320,\n",
       " 321,\n",
       " 322,\n",
       " 323,\n",
       " 324,\n",
       " 325,\n",
       " 326,\n",
       " 327,\n",
       " 328,\n",
       " 329,\n",
       " 330,\n",
       " 331,\n",
       " 332,\n",
       " 333,\n",
       " 334,\n",
       " 335,\n",
       " 336,\n",
       " 337,\n",
       " 338,\n",
       " 339,\n",
       " 340,\n",
       " 341,\n",
       " 342,\n",
       " 343,\n",
       " 344,\n",
       " 345,\n",
       " 346,\n",
       " 347,\n",
       " 348,\n",
       " 349,\n",
       " 350,\n",
       " 351,\n",
       " 352,\n",
       " 353,\n",
       " 354,\n",
       " 355,\n",
       " 356,\n",
       " 357,\n",
       " 358,\n",
       " 359,\n",
       " 360,\n",
       " 361,\n",
       " 362,\n",
       " 363,\n",
       " 364,\n",
       " 365,\n",
       " 366,\n",
       " 367,\n",
       " 368,\n",
       " 369,\n",
       " 370,\n",
       " 371,\n",
       " 372,\n",
       " 373,\n",
       " 374,\n",
       " 375,\n",
       " 376,\n",
       " 377,\n",
       " 378,\n",
       " 379,\n",
       " 380,\n",
       " 381,\n",
       " 382,\n",
       " 383,\n",
       " 384,\n",
       " 385,\n",
       " 386,\n",
       " 387,\n",
       " 388,\n",
       " 389,\n",
       " 390,\n",
       " 391,\n",
       " 392,\n",
       " 393,\n",
       " 394,\n",
       " 395,\n",
       " 396,\n",
       " 397,\n",
       " 398,\n",
       " 399,\n",
       " 400,\n",
       " 401,\n",
       " 402,\n",
       " 403,\n",
       " 404,\n",
       " 405,\n",
       " 406,\n",
       " 407,\n",
       " 408,\n",
       " 409,\n",
       " 410,\n",
       " 411,\n",
       " 412,\n",
       " 413,\n",
       " 414,\n",
       " 415,\n",
       " 416,\n",
       " 417,\n",
       " 418,\n",
       " 419,\n",
       " 420,\n",
       " 421,\n",
       " 422,\n",
       " 423,\n",
       " 424,\n",
       " 425,\n",
       " 426,\n",
       " 427,\n",
       " 428,\n",
       " 429,\n",
       " 430,\n",
       " 431,\n",
       " 432,\n",
       " 433,\n",
       " 434,\n",
       " 435,\n",
       " 436,\n",
       " 437,\n",
       " 438,\n",
       " 439,\n",
       " 440,\n",
       " 441,\n",
       " 442,\n",
       " 443,\n",
       " 444,\n",
       " 445,\n",
       " 446,\n",
       " 447,\n",
       " 448,\n",
       " 449,\n",
       " 450,\n",
       " 451,\n",
       " 452,\n",
       " 453,\n",
       " 454,\n",
       " 455,\n",
       " 456,\n",
       " 457,\n",
       " 458,\n",
       " 459,\n",
       " 460,\n",
       " 461,\n",
       " 462,\n",
       " 463,\n",
       " 464,\n",
       " 465,\n",
       " 466,\n",
       " 467,\n",
       " 468,\n",
       " 469,\n",
       " 470,\n",
       " 471,\n",
       " 472,\n",
       " 473,\n",
       " 474,\n",
       " 475,\n",
       " 476,\n",
       " 477,\n",
       " 478,\n",
       " 479,\n",
       " 480,\n",
       " 481,\n",
       " 482,\n",
       " 483,\n",
       " 484,\n",
       " 485,\n",
       " 486,\n",
       " 487,\n",
       " 488,\n",
       " 489,\n",
       " 490,\n",
       " 491,\n",
       " 492,\n",
       " 493,\n",
       " 494,\n",
       " 495,\n",
       " 496,\n",
       " 497,\n",
       " 498,\n",
       " 499,\n",
       " 500,\n",
       " 501,\n",
       " 502,\n",
       " 503,\n",
       " 504,\n",
       " 505,\n",
       " 506,\n",
       " 507,\n",
       " 508,\n",
       " 509,\n",
       " 510,\n",
       " 511,\n",
       " 512,\n",
       " 513,\n",
       " 514,\n",
       " 515,\n",
       " 516,\n",
       " 517,\n",
       " 518,\n",
       " 519,\n",
       " 520,\n",
       " 521,\n",
       " 522,\n",
       " 523,\n",
       " 524,\n",
       " 525,\n",
       " 526,\n",
       " 527,\n",
       " 528,\n",
       " 529,\n",
       " 530,\n",
       " 531,\n",
       " 532,\n",
       " 533,\n",
       " 534,\n",
       " 535,\n",
       " 536,\n",
       " 537,\n",
       " 538,\n",
       " 539,\n",
       " 540,\n",
       " 541,\n",
       " 542,\n",
       " 543,\n",
       " 544,\n",
       " 545,\n",
       " 546,\n",
       " 547,\n",
       " 548,\n",
       " 549,\n",
       " 550,\n",
       " 551,\n",
       " 552,\n",
       " 553,\n",
       " 554,\n",
       " 555,\n",
       " 556,\n",
       " 557,\n",
       " 558,\n",
       " 559,\n",
       " 560,\n",
       " 561,\n",
       " 562,\n",
       " 563,\n",
       " 564,\n",
       " 565,\n",
       " 566,\n",
       " 567,\n",
       " 568,\n",
       " 569,\n",
       " 570,\n",
       " 571,\n",
       " 572,\n",
       " 573,\n",
       " 574,\n",
       " 575,\n",
       " 576,\n",
       " 577,\n",
       " 578,\n",
       " 579,\n",
       " 580,\n",
       " 581,\n",
       " 582,\n",
       " 583,\n",
       " 584,\n",
       " 585,\n",
       " 586,\n",
       " 587,\n",
       " 588,\n",
       " 589,\n",
       " 590,\n",
       " 591,\n",
       " 592,\n",
       " 593,\n",
       " 594,\n",
       " 595,\n",
       " 596,\n",
       " 597,\n",
       " 598,\n",
       " 599,\n",
       " 600,\n",
       " 601,\n",
       " 602,\n",
       " 603,\n",
       " 604,\n",
       " 605,\n",
       " 606,\n",
       " 607,\n",
       " 608,\n",
       " 609,\n",
       " 610,\n",
       " 611,\n",
       " 612,\n",
       " 613,\n",
       " 614,\n",
       " 615,\n",
       " 616,\n",
       " 617,\n",
       " 618,\n",
       " 619,\n",
       " 620,\n",
       " 621,\n",
       " 622,\n",
       " 623,\n",
       " 624,\n",
       " 625,\n",
       " 626,\n",
       " 627,\n",
       " 628,\n",
       " 629,\n",
       " 630,\n",
       " 631,\n",
       " 632,\n",
       " 633,\n",
       " 634,\n",
       " 635,\n",
       " 636,\n",
       " 637,\n",
       " 638,\n",
       " 639,\n",
       " 640,\n",
       " 641,\n",
       " 642,\n",
       " 643,\n",
       " 644,\n",
       " 645,\n",
       " 646,\n",
       " 647,\n",
       " 648,\n",
       " 649,\n",
       " 650,\n",
       " 651,\n",
       " 652,\n",
       " 653,\n",
       " 654,\n",
       " 655,\n",
       " 656,\n",
       " 657,\n",
       " 658,\n",
       " 659,\n",
       " 660,\n",
       " 661,\n",
       " 662,\n",
       " 663,\n",
       " 664,\n",
       " 665,\n",
       " 666,\n",
       " 667,\n",
       " 668,\n",
       " 669,\n",
       " 670,\n",
       " 671,\n",
       " 672,\n",
       " 673,\n",
       " 674,\n",
       " 675,\n",
       " 676,\n",
       " 677,\n",
       " 678,\n",
       " 679,\n",
       " 680,\n",
       " 681,\n",
       " 682,\n",
       " 683,\n",
       " 684,\n",
       " 685,\n",
       " 686,\n",
       " 687,\n",
       " 688,\n",
       " 689,\n",
       " 690,\n",
       " 691,\n",
       " 692,\n",
       " 693,\n",
       " 694,\n",
       " 695,\n",
       " 696,\n",
       " 697,\n",
       " 698,\n",
       " 699,\n",
       " 700,\n",
       " 701,\n",
       " 702,\n",
       " 703,\n",
       " 704,\n",
       " 705,\n",
       " 706,\n",
       " 707,\n",
       " 708,\n",
       " 709,\n",
       " 710,\n",
       " 711,\n",
       " 712,\n",
       " 713,\n",
       " 714,\n",
       " 715,\n",
       " 716,\n",
       " 717,\n",
       " 718,\n",
       " 719,\n",
       " 720,\n",
       " 721,\n",
       " 722,\n",
       " 723,\n",
       " 724,\n",
       " 725,\n",
       " 726,\n",
       " 727,\n",
       " 728,\n",
       " 729,\n",
       " 730,\n",
       " 731,\n",
       " 732,\n",
       " 733,\n",
       " 734,\n",
       " 735,\n",
       " 736,\n",
       " 737,\n",
       " 738,\n",
       " 739,\n",
       " 740,\n",
       " 741,\n",
       " 742,\n",
       " 743,\n",
       " 744,\n",
       " 745,\n",
       " 746,\n",
       " 747,\n",
       " 748,\n",
       " 749,\n",
       " 750,\n",
       " 751,\n",
       " 752,\n",
       " 753,\n",
       " 754,\n",
       " 755,\n",
       " 756,\n",
       " 757,\n",
       " 758,\n",
       " 759,\n",
       " 760,\n",
       " 761,\n",
       " 762,\n",
       " 763,\n",
       " 764,\n",
       " 765,\n",
       " 766,\n",
       " 767,\n",
       " 768,\n",
       " 769,\n",
       " 770,\n",
       " 771,\n",
       " 772,\n",
       " 773,\n",
       " 774,\n",
       " 775,\n",
       " 776,\n",
       " 777,\n",
       " 778,\n",
       " 779,\n",
       " 780,\n",
       " 781,\n",
       " 782,\n",
       " 783,\n",
       " 784,\n",
       " 785,\n",
       " 786,\n",
       " 787,\n",
       " 788,\n",
       " 789,\n",
       " 790,\n",
       " 791,\n",
       " 792,\n",
       " 793,\n",
       " 794,\n",
       " 795,\n",
       " 796,\n",
       " 797,\n",
       " 798,\n",
       " 799,\n",
       " 800,\n",
       " 801,\n",
       " 802,\n",
       " 803,\n",
       " 804,\n",
       " 805,\n",
       " 806,\n",
       " 807,\n",
       " 808,\n",
       " 809,\n",
       " 810,\n",
       " 811,\n",
       " 812,\n",
       " 813,\n",
       " 814,\n",
       " 815,\n",
       " 816,\n",
       " 817,\n",
       " 818,\n",
       " 819,\n",
       " 820,\n",
       " 821,\n",
       " 822,\n",
       " 823,\n",
       " 824,\n",
       " 825,\n",
       " 826,\n",
       " 827,\n",
       " 828,\n",
       " 829,\n",
       " 830,\n",
       " 831,\n",
       " 832,\n",
       " 833,\n",
       " 834,\n",
       " 835,\n",
       " 836,\n",
       " 837,\n",
       " 838,\n",
       " 839,\n",
       " 840,\n",
       " 841,\n",
       " 842,\n",
       " 843,\n",
       " 844,\n",
       " 845,\n",
       " 846,\n",
       " 847,\n",
       " 848,\n",
       " 849,\n",
       " 850,\n",
       " 851,\n",
       " 852,\n",
       " 853,\n",
       " 854,\n",
       " 855,\n",
       " 856,\n",
       " 857,\n",
       " 858,\n",
       " 859,\n",
       " 860,\n",
       " 861,\n",
       " 862,\n",
       " 863,\n",
       " 864,\n",
       " 865,\n",
       " 866,\n",
       " 867,\n",
       " 868,\n",
       " 869,\n",
       " 870,\n",
       " 871,\n",
       " 872,\n",
       " 873,\n",
       " 874,\n",
       " 875,\n",
       " 876,\n",
       " 877,\n",
       " 878,\n",
       " 879,\n",
       " 880,\n",
       " 881,\n",
       " 882,\n",
       " 883,\n",
       " 884,\n",
       " 885,\n",
       " 886,\n",
       " 887,\n",
       " 888,\n",
       " 889,\n",
       " 890,\n",
       " 891,\n",
       " 892,\n",
       " 893,\n",
       " 894,\n",
       " 895,\n",
       " 896,\n",
       " 897,\n",
       " 898,\n",
       " 899,\n",
       " 900,\n",
       " 901,\n",
       " 902,\n",
       " 903,\n",
       " 904,\n",
       " 905,\n",
       " 906,\n",
       " 907,\n",
       " 908,\n",
       " 909,\n",
       " 910,\n",
       " 911,\n",
       " 912,\n",
       " 913,\n",
       " 914,\n",
       " 915,\n",
       " 916,\n",
       " 917,\n",
       " 918,\n",
       " 919,\n",
       " 920,\n",
       " 921,\n",
       " 922,\n",
       " 923,\n",
       " 924,\n",
       " 925,\n",
       " 926,\n",
       " 927,\n",
       " 928,\n",
       " 929,\n",
       " 930,\n",
       " 931,\n",
       " 932,\n",
       " 933,\n",
       " 934,\n",
       " 935,\n",
       " 936,\n",
       " 937,\n",
       " 938,\n",
       " 939,\n",
       " 940,\n",
       " 941,\n",
       " 942,\n",
       " 943,\n",
       " 944,\n",
       " 945,\n",
       " 946,\n",
       " 947,\n",
       " 948,\n",
       " 949,\n",
       " 950,\n",
       " 951,\n",
       " 952,\n",
       " 953,\n",
       " 954,\n",
       " 955,\n",
       " 956,\n",
       " 957,\n",
       " 958,\n",
       " 959,\n",
       " 960,\n",
       " 961,\n",
       " 962,\n",
       " 963,\n",
       " 964,\n",
       " 965,\n",
       " 966,\n",
       " 967,\n",
       " 968,\n",
       " 969,\n",
       " 970,\n",
       " 971,\n",
       " 972,\n",
       " 973,\n",
       " 974,\n",
       " 975,\n",
       " 976,\n",
       " 977,\n",
       " 978,\n",
       " 979,\n",
       " 980,\n",
       " 981,\n",
       " 982,\n",
       " 983,\n",
       " 984,\n",
       " 985,\n",
       " 986,\n",
       " 987,\n",
       " 988,\n",
       " 989,\n",
       " 990,\n",
       " 991,\n",
       " 992,\n",
       " 993,\n",
       " 994,\n",
       " 995,\n",
       " 996,\n",
       " 997,\n",
       " 998,\n",
       " 999,\n",
       " ...]"
      ]
     },
     "execution_count": 68,
     "metadata": {},
     "output_type": "execute_result"
    }
   ],
   "source": [
    "# Q: Demonstrate how to use memory profiling to check the memory usage of a small program\n",
    "\n",
    "from memory_profiler import profile\n",
    "\n",
    "@profile\n",
    "def my_func():\n",
    "    a = [i for i in range(10000)]\n",
    "    return a\n",
    "\n",
    "my_func()"
   ]
  },
  {
   "cell_type": "code",
   "execution_count": 54,
   "id": "25e819a4",
   "metadata": {},
   "outputs": [
    {
     "name": "stdout",
     "output_type": "stream",
     "text": [
      "1\n",
      "2\n",
      "3\n",
      "4\n",
      "5\n",
      "6\n",
      "7\n",
      "8\n",
      "9\n",
      "10\n"
     ]
    }
   ],
   "source": [
    "# Q: Write a Python program to create and write a list of numbers to a file, one number per line\n",
    "numbers = list(range(1, 11))\n",
    "with open('numbers.txt', 'w') as f:\n",
    "    for number in numbers:\n",
    "        f.write(f'{number}\\n')\n",
    "with open('numbers.txt', 'r') as f:\n",
    "    for line in f:\n",
    "        print(line.strip())"
   ]
  },
  {
   "cell_type": "code",
   "execution_count": 56,
   "id": "a80253df",
   "metadata": {},
   "outputs": [],
   "source": [
    "# Q: How would you implement a basic logging setup that logs to a file with rotation after 1MB\n",
    "import logging\n",
    "from logging.handlers import RotatingFileHandler\n",
    "\n",
    "handler = RotatingFileHandler('rotating.log', maxBytes=1048576, backupCount=3)\n",
    "logging.basicConfig(handlers=[handler], level=logging.INFO)\n",
    "logging.info('Logging with rotation')"
   ]
  },
  {
   "cell_type": "code",
   "execution_count": 58,
   "id": "20f491bd",
   "metadata": {},
   "outputs": [
    {
     "name": "stdout",
     "output_type": "stream",
     "text": [
      "KeyError occurred\n"
     ]
    }
   ],
   "source": [
    "# Q: Write a program that handles both IndexError and KeyError using a try-except block\n",
    "data = {'name': 'Bob'}\n",
    "items = [1, 2, 3]\n",
    "\n",
    "try:\n",
    "    print(data['age'])\n",
    "    print(items[5])\n",
    "except KeyError:\n",
    "    print('KeyError occurred')\n",
    "except IndexError:\n",
    "    print('IndexError occurred')"
   ]
  },
  {
   "cell_type": "code",
   "execution_count": 60,
   "id": "066e611e",
   "metadata": {},
   "outputs": [
    {
     "name": "stdout",
     "output_type": "stream",
     "text": [
      "Hello, this is a test file.\n",
      "Appended line.\n",
      "Appended line.\n"
     ]
    }
   ],
   "source": [
    "# Q: How would you open a file and read its contents using a context manager in Python\n",
    "with open('example.txt') as f:\n",
    "    print(f.read())"
   ]
  },
  {
   "cell_type": "code",
   "execution_count": 62,
   "id": "875dd0fe",
   "metadata": {},
   "outputs": [
    {
     "name": "stdout",
     "output_type": "stream",
     "text": [
      "The word \"test\" occurred 1 times.\n"
     ]
    }
   ],
   "source": [
    "# Q: Write a Python program that reads a file and prints the number of occurrences of a specific word\n",
    "word_to_find = 'test'\n",
    "count = 0\n",
    "with open('example.txt') as f:\n",
    "    for line in f:\n",
    "        count += line.count(word_to_find)\n",
    "print(f'The word \"{word_to_find}\" occurred {count} times.')"
   ]
  },
  {
   "cell_type": "code",
   "execution_count": 64,
   "id": "9e634baf",
   "metadata": {},
   "outputs": [
    {
     "name": "stdout",
     "output_type": "stream",
     "text": [
      "Hello, this is a test file.\n",
      "Appended line.\n",
      "Appended line.\n"
     ]
    }
   ],
   "source": [
    "# Q: How can you check if a file is empty before attempting to read its contents\n",
    "import os\n",
    "if os.path.getsize('example.txt') == 0:\n",
    "    print('File is empty')\n",
    "else:\n",
    "    with open('example.txt') as f:\n",
    "        print(f.read())"
   ]
  },
  {
   "cell_type": "code",
   "execution_count": 66,
   "id": "dfccdf04",
   "metadata": {},
   "outputs": [],
   "source": [
    "# Q: Write a Python program that writes to a log file when an error occurs during file handling\n",
    "import logging\n",
    "logging.basicConfig(filename='file_error.log', level=logging.ERROR)\n",
    "\n",
    "try:\n",
    "    with open('missing.txt') as f:\n",
    "        print(f.read())\n",
    "except Exception as e:\n",
    "    logging.error('File handling error: %s', e)"
   ]
  },
  {
   "cell_type": "code",
   "execution_count": null,
   "id": "d5e3de0c-3eed-4511-98b2-1285f10694a3",
   "metadata": {},
   "outputs": [],
   "source": []
  }
 ],
 "metadata": {
  "kernelspec": {
   "display_name": "Python 3 (ipykernel)",
   "language": "python",
   "name": "python3"
  },
  "language_info": {
   "codemirror_mode": {
    "name": "ipython",
    "version": 3
   },
   "file_extension": ".py",
   "mimetype": "text/x-python",
   "name": "python",
   "nbconvert_exporter": "python",
   "pygments_lexer": "ipython3",
   "version": "3.12.2"
  }
 },
 "nbformat": 4,
 "nbformat_minor": 5
}
